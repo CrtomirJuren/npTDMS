{
 "cells": [
  {
   "cell_type": "markdown",
   "metadata": {},
   "source": [
    "# npTDMS code snippets\n",
    "\n",
    "<code>conda install -c conda-forge nptdms</code>\n",
    "\n",
    "webpage\n",
    "https://nptdms.readthedocs.io/en/stable/index.html\n",
    "\n",
    "weblink documentation\n",
    "https://nptdms.readthedocs.io/en/stable/reading.html"
   ]
  },
  {
   "cell_type": "code",
   "execution_count": 54,
   "metadata": {},
   "outputs": [],
   "source": [
    "# Imports\n",
    "import os\n",
    "from pathlib import Path # for filename withput extension\n",
    "\n",
    "import numpy as np\n",
    "import pandas as pd\n",
    "\n",
    "import nptdms\n",
    "from nptdms import TdmsFile\n",
    "\n",
    "import time\n",
    "from time import sleep\n",
    "import datetime as dt\n",
    "\n",
    "import matplotlib.pyplot as plt\n",
    "import matplotlib.dates as md\n",
    "\n",
    "# tqdm progress bar\n",
    "from tqdm import tqdm\n",
    "from tqdm import trange\n",
    "from colorama import Fore\n",
    "\n",
    "import math # for rounding up/down ceil/floor function\n",
    "\n",
    "from IPython import get_ipython\n",
    "#displays the plot in the notebook itself, immediately below the cell that creates the plot:\n",
    "get_ipython().run_line_magic('matplotlib', 'inline') \n",
    "#get_ipython().run_line_magic('matplotlib', 'qt')\n",
    "\n",
    "DATA_DIR = r\"C:\\Users\\crtom\\Documents\\npTDMS.git\\data\"\n",
    "FILENAME = r\"DAQ-sim\"\n",
    "FILEPATH = os.path.join(DATA_DIR, FILENAME + \".tdms\")"
   ]
  },
  {
   "cell_type": "markdown",
   "metadata": {},
   "source": [
    "# READ TDMS PROPERTIES"
   ]
  },
  {
   "cell_type": "code",
   "execution_count": 66,
   "metadata": {},
   "outputs": [
    {
     "name": "stdout",
     "output_type": "stream",
     "text": [
      "\n",
      "---Open and read in memory complete tdms file---\n",
      "<nptdms.tdms.TdmsFile object at 0x07E0B8B0>\n",
      "\n",
      "---metadata---\n",
      "OrderedDict([('name', 'DAQ-sim')])\n",
      "\n",
      "---groups, channels---\n",
      "[<TdmsGroup with path /'analog'>]\n",
      "[<TdmsChannel with path /'analog'/'U'>, <TdmsChannel with path /'analog'/'I'>, <TdmsChannel with path /'analog'/'T'>]\n",
      "\n",
      "---properties---\n",
      "name: DAQ-sim\n",
      "\n",
      "---iterate trough groups---\n",
      "<TdmsGroup with path /'analog'>\n",
      "analog\n",
      "\n",
      "---iterate trough channels---\n",
      "<TdmsChannel with path /'analog'/'U'>\n",
      "U\n",
      "<TdmsChannel with path /'analog'/'I'>\n",
      "I\n",
      "<TdmsChannel with path /'analog'/'T'>\n",
      "T\n",
      "\n",
      "---all channel properties---\n",
      "NI_Scaling_Status  =  unscaled\n",
      "NI_Number_Of_Scales  =  2\n",
      "NI_Scale[1]_Scale_Type  =  Linear\n",
      "NI_Scale[1]_Linear_Slope  =  0.00030518043793392844\n",
      "NI_Scale[1]_Linear_Y_Intercept  =  0.0\n",
      "NI_Scale[1]_Linear_Input_Source  =  0\n",
      "NI_ChannelName  =  T\n",
      "unit_string  =  Volts\n",
      "NI_UnitDescription  =  Volts\n",
      "wf_start_time  =  2020-11-23T15:40:39.013576\n",
      "wf_increment  =  0.01\n",
      "wf_start_offset  =  0.0\n",
      "wf_samples  =  1\n",
      "\n",
      "---single channel propertie---\n",
      "NI_ChannelName =  T\n",
      "Volts\n",
      "2020-11-23T15:40:39.013576\n"
     ]
    }
   ],
   "source": [
    "# Open and read complete tdms file\n",
    "print(\"\\n---Open and read in memory complete tdms file---\")\n",
    "tdms_file = TdmsFile.read(FILEPATH)\n",
    "print(tdms_file)\n",
    "\n",
    "# you dont nned to open file to read metadata\n",
    "print(\"\\n---metadata---\")\n",
    "tdms_file = TdmsFile.read_metadata(FILEPATH)\n",
    "print(metadata.properties)\n",
    "\n",
    "# get groups, channels\n",
    "print(\"\\n---groups, channels---\")\n",
    "all_groups = tdms_file.groups()\n",
    "all_group_channels = group.channels()\n",
    "print(all_groups)\n",
    "print(all_group_channels)\n",
    "\n",
    "print(\"\\n---properties---\")\n",
    "for name, value in tdms_file.properties.items():\n",
    "    print(\"{0}: {1}\".format(name, value))\n",
    "\n",
    "print(\"\\n---iterate trough groups---\")\n",
    "# DAQ data has only one group\n",
    "for group in tdms_file.groups():\n",
    "    print(group)\n",
    "    print(group.name)\n",
    "\n",
    "print(\"\\n---iterate trough channels---\")\n",
    "for channel in group.channels():\n",
    "    print(channel)\n",
    "    print(channel.name)\n",
    "    properties = channel.properties\n",
    "    #print(properties)\n",
    "\n",
    "print(\"\\n---all channel properties---\")\n",
    "for x,y in properties.items():\n",
    "    print(x,\" = \",y)\n",
    "    \n",
    "# Accessing a single propertie\n",
    "print(\"\\n---single channel propertie---\")\n",
    "NI_ChannelName = channel.properties['NI_ChannelName']\n",
    "NI_UnitDescription = channel.properties['NI_UnitDescription']\n",
    "wf_start_time = channel.properties['wf_start_time']\n",
    "print(\"NI_ChannelName = \", NI_ChannelName)\n",
    "print(NI_UnitDescription)\n",
    "print(wf_start_time)"
   ]
  },
  {
   "cell_type": "markdown",
   "metadata": {},
   "source": [
    "# READ TDMS to dataframe"
   ]
  },
  {
   "cell_type": "code",
   "execution_count": 76,
   "metadata": {},
   "outputs": [
    {
     "name": "stdout",
     "output_type": "stream",
     "text": [
      "<nptdms.tdms.TdmsFile object at 0x07E55F30>\n",
      "                   date_time  test_time         U         I         T\n",
      "0 2020-11-23 15:40:39.013576       0.00 -0.012207  0.755322  1.921721\n",
      "1 2020-11-23 15:40:39.023576       0.01 -0.134890  1.121233  1.870451\n",
      "2 2020-11-23 15:40:39.033576       0.02 -0.090028  0.766003  2.097200\n",
      "3 2020-11-23 15:40:39.043576       0.03 -0.114443  0.732433  1.790494\n",
      "4 2020-11-23 15:40:39.053576       0.04  0.304570  1.152056  1.723354\n",
      "Index(['date_time', 'test_time', 'U', 'I', 'T'], dtype='object')\n",
      "(3240, 5)\n"
     ]
    },
    {
     "data": {
      "text/plain": [
       "pandas.core.frame.DataFrame"
      ]
     },
     "execution_count": 76,
     "metadata": {},
     "output_type": "execute_result"
    }
   ],
   "source": [
    "tdms_file = TdmsFile.read(FILEPATH)\n",
    "print(tdms_file)\n",
    "\n",
    "for group in tdms_file.groups():\n",
    "    group_name = group.name\n",
    "\n",
    "signal_data_df = tdms_file[group_name].as_dataframe()\n",
    "   \n",
    "# get time data\n",
    "date_time_dt64 = channel.time_track(absolute_time = True)#, accuracy='ns'\n",
    "test_time_dt64 = channel.time_track(absolute_time = False)\n",
    "        \n",
    "# convert tim = numpy array to pandas df\n",
    "date_time_df = pd.DataFrame(date_time_dt64, columns = ['date_time'])\n",
    "test_time_df = pd.DataFrame(test_time_dt64, columns = ['test_time'])\n",
    "        \n",
    "# merge date_time, test_time and data\n",
    "tdms_df = pd.concat([date_time_df, test_time_df, signal_data_df], axis=1).reindex(date_time_df.index)\n",
    "\n",
    "print(tdms_df.head())\n",
    "print(tdms_df.keys())\n",
    "print(tdms_df.shape)\n",
    "type(tdms_df)\n",
    "\n",
    "#tdms_df.to_excel(\"test.xlsx\")"
   ]
  },
  {
   "cell_type": "code",
   "execution_count": 80,
   "metadata": {},
   "outputs": [
    {
     "name": "stdout",
     "output_type": "stream",
     "text": [
      "U\n",
      "I\n",
      "T\n"
     ]
    },
    {
     "data": {
      "image/png": "[encoded data removed]",
      "text/plain": [
       "<Figure size 432x288 with 1 Axes>"
      ]
     },
     "metadata": {
      "needs_background": "light"
     },
     "output_type": "display_data"
    }
   ],
   "source": [
    "fig = plt.figure()\n",
    "ax = plt.subplot(111)\n",
    "\n",
    "for channel in group.channels():\n",
    "    tdms_df.plot(kind='line', x=\"test_time\", y=channel.name, ax=ax)\n",
    "    #print(channel.name)\n",
    "        \n",
    "# set title, axis legend\n",
    "plt.title(\"DAQ-sim.tdms\")\n",
    "plt.xlabel(\"samples\")\n",
    "plt.ylabel(\" Amplitude \"+\" U \"+\" I \"+\" T \")\n",
    "    \n",
    "fig.tight_layout()\n",
    "# save current plot to file\n",
    "plt.savefig('output.png', dpi=300, bbox_inches='tight')\n",
    "\n",
    "plt.show()"
   ]
  },
  {
   "cell_type": "markdown",
   "metadata": {},
   "source": [
    "# Typical usage when reading a TDMS"
   ]
  },
  {
   "cell_type": "code",
   "execution_count": 82,
   "metadata": {},
   "outputs": [
    {
     "name": "stdout",
     "output_type": "stream",
     "text": [
      "analog\n",
      "U\n",
      "[-0.01220722 -0.13488975 -0.09002823 -0.11444266  0.30457008]\n",
      "I\n",
      "[0.75532158 1.12123293 0.7660029  0.73243305 1.15205615]\n",
      "T\n",
      "[1.92172122 1.8704509  2.09719997 1.79049363 1.72335393]\n"
     ]
    }
   ],
   "source": [
    "for group in tdms_file.groups():\n",
    "    group_name = group.name\n",
    "    print(group_name)\n",
    "    for channel in group.channels():\n",
    "        channel_name = channel.name\n",
    "        print(channel_name)\n",
    "        # Access dictionary of properties:\n",
    "        properties = channel.properties\n",
    "        # Access numpy array of data for channel:\n",
    "        data = channel[:]\n",
    "        # Access a subset of data\n",
    "        data_subset = channel[0:5]\n",
    "        print(data_subset)\n"
   ]
  },
  {
   "cell_type": "markdown",
   "metadata": {},
   "source": [
    "## access a channel by group name and channel name directly\n"
   ]
  },
  {
   "cell_type": "code",
   "execution_count": 4,
   "metadata": {},
   "outputs": [
    {
     "name": "stdout",
     "output_type": "stream",
     "text": [
      "<TdmsGroup with path /'analog'>\n",
      "<TdmsChannel with path /'analog'/'U'>\n"
     ]
    }
   ],
   "source": [
    "group_name = \"analog\"\n",
    "channel_name = \"U\"\n",
    "\n",
    "group = tdms_file[group_name]\n",
    "channel = group[channel_name]\n",
    "\n",
    "print(group)\n",
    "print(channel)"
   ]
  },
  {
   "cell_type": "markdown",
   "metadata": {},
   "source": [
    "## The TdmsFile.read method reads all data into memory immediately. When you are working with large TDMS\n",
    "files or don’t need to read all channel data, you can instead use TdmsFile.open. This is more memory efficient but\n",
    "accessing data can be slower:"
   ]
  },
  {
   "cell_type": "code",
   "execution_count": 5,
   "metadata": {},
   "outputs": [
    {
     "name": "stdout",
     "output_type": "stream",
     "text": [
      "(3240,)\n",
      "[-0.01220722 -0.13488975 -0.09002823 -0.11444266  0.30457008]\n"
     ]
    }
   ],
   "source": [
    "group_name = \"analog\"\n",
    "channel_name = \"U\"\n",
    "\n",
    "with TdmsFile.open(\"DAQ-sim.tdms\"):\n",
    "    channel = tdms_file[group_name][channel_name]\n",
    "    channel_data = channel[:]\n",
    "    print(channel_data.shape)\n",
    "    print(channel_data[0:5])"
   ]
  },
  {
   "cell_type": "code",
   "execution_count": 6,
   "metadata": {},
   "outputs": [
    {
     "name": "stdout",
     "output_type": "stream",
     "text": [
      "[<Arrow [2020-11-23T16:40:39.013548+01:00]>, <Arrow [2020-11-23T16:40:39.023548+01:00]>]\n",
      "2020-11-23T15:40:39.013548\n",
      "2020-11-27 08:36:51.027438\n"
     ]
    }
   ],
   "source": [
    "# 1.2.2 Timestamps, page 6 of documentation\n",
    "# importing datetime from datetime module \n",
    "import datetime \n",
    "#from datetime import datetime \n",
    "import arrow #Arrow: Better dates & times for Python\n",
    "\n",
    "timestamp = channel.properties['wf_start_time']\n",
    "\n",
    "#datetimeObj = datetime.strptime('2018-09-11T15::11::45.456777', '%Y-%m-%dT%H::%M::%S.%f')\n",
    "local_time = arrow.get(timestamp.astype(datetime.datetime)).to('local')\n",
    "#print(local_time.format())\n",
    "\n",
    "Hz = 100\n",
    "dt = 1/Hz\n",
    "# make up some data\n",
    "#x = [datetime.datetime.now() + datetime.timedelta(hours=i) for i in range(12)]\n",
    "x = [local_time + datetime.timedelta(seconds=dt*i) for i in range(12)]\n",
    "print(x[0:2])\n",
    "\n",
    "print(timestamp)\n",
    "print(datetime.datetime.now())\n",
    "\n",
    "#datetimeObj = datetime.strptime('2018-09-11T15::11::45.456777', '%Y-%m-%dT%H::%M::%S.%f')\n",
    "#print(datetimeObj)\n",
    "#print(type(datetimeObj))\n"
   ]
  },
  {
   "cell_type": "code",
   "execution_count": 10,
   "metadata": {
    "scrolled": true
   },
   "outputs": [
    {
     "name": "stdout",
     "output_type": "stream",
     "text": [
      "3239\n",
      "type(timestamps ): \n",
      "<class 'numpy.ndarray'>\n",
      "type(now): \n",
      "<class 'numpy.float64'>\n",
      "type(duration): \n",
      "<class 'int'>\n",
      "type(n): \n",
      "<class 'numpy.int64'>\n",
      "type(dates): \n",
      "<class 'list'>\n"
     ]
    },
    {
     "name": "stderr",
     "output_type": "stream",
     "text": [
      "C:\\Users\\crtjur\\anaconda3\\lib\\site-packages\\ipykernel_launcher.py:24: DeprecationWarning: parsing timezone aware datetimes is deprecated; this will raise an error in the future\n"
     ]
    },
    {
     "data": {
      "image/png": "[encoded data removed]",
      "text/plain": [
       "<Figure size 432x288 with 1 Axes>"
      ]
     },
     "metadata": {},
     "output_type": "display_data"
    }
   ],
   "source": [
    "import matplotlib.pyplot as plt\n",
    "import matplotlib.dates as md\n",
    "import numpy as np\n",
    "import datetime as dt\n",
    "import time\n",
    "\n",
    "%matplotlib inline\n",
    "\n",
    "n = df.index.values.max()\n",
    "print(n)\n",
    "duration = int(n/100)\n",
    "\n",
    "#n = 10 #20 number of samples\n",
    "#duration = 100 #1000 i nseconds\n",
    "\n",
    "\n",
    "# read start timestamp from tdms. This timestamp is numpy.datetime64\n",
    "dt64 = channel.properties['wf_start_time']\n",
    "\"\"\"\n",
    "print(\"type(dt64): \")\n",
    "print(type(dt64))\n",
    "\"\"\"\n",
    "\n",
    "now = (dt64 - np.datetime64('1970-01-01T00:00:00Z')) / np.timedelta64(1, 's')\n",
    "    \n",
    "#print(\"Timestamp:\")\n",
    "#print(now)\n",
    "#print(\"UTC from Timestamp:\")\n",
    "#print(datetime.utcfromtimestamp(now))\n",
    "\n",
    "timestamps = np.linspace(now, now + duration, n)\n",
    "print(\"type(timestamps ): \")\n",
    "print(type(timestamps ))\n",
    "\n",
    "print(\"type(now): \")\n",
    "print(type(now))\n",
    "\n",
    "print(\"type(duration): \")\n",
    "print(type(duration))\n",
    "\n",
    "print(\"type(n): \")\n",
    "print(type(n))\n",
    "\n",
    "dates=[dt.datetime.fromtimestamp(ts) for ts in timestamps]\n",
    "print(\"type(dates): \")\n",
    "print(type(dates))\n",
    "\n",
    "datenums=md.date2num(dates)\n",
    "#print(datenums)\n",
    "\n",
    "values=np.sin((timestamps-now)/duration*2*np.pi)\n",
    "\n",
    "plt.subplots_adjust(bottom=0.1)\n",
    "plt.xticks( rotation=25 )\n",
    "\n",
    "ax=plt.gca()\n",
    "\n",
    "xfmt = md.DateFormatter('%Y-%m-%d %H:%M:%S')\n",
    "ax.xaxis.set_major_formatter(xfmt)\n",
    "plt.plot(datenums,values)\n",
    "plt.show()"
   ]
  },
  {
   "cell_type": "code",
   "execution_count": null,
   "metadata": {},
   "outputs": [],
   "source": []
  }
 ],
 "metadata": {
  "kernelspec": {
   "display_name": "Python 3",
   "language": "python",
   "name": "python3"
  },
  "language_info": {
   "codemirror_mode": {
    "name": "ipython",
    "version": 3
   },
   "file_extension": ".py",
   "mimetype": "text/x-python",
   "name": "python",
   "nbconvert_exporter": "python",
   "pygments_lexer": "ipython3",
   "version": "3.7.9"
  }
 },
 "nbformat": 4,
 "nbformat_minor": 2
}
